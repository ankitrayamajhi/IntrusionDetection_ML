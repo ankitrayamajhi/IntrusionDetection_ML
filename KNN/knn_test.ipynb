{
 "cells": [
  {
   "cell_type": "code",
   "execution_count": null,
   "id": "dfe61554-9ad4-4d48-88f0-566c4d336d4e",
   "metadata": {},
   "outputs": [],
   "source": [
    "import pandas as pd\n",
    "import numpy as np\n",
    "from sklearn.preprocessing import LabelEncoder\n",
    "from sklearn.metrics import classification_report, accuracy_score, confusion_matrix, roc_auc_score\n",
    "import pickle"
   ]
  },
  {
   "cell_type": "code",
   "execution_count": null,
   "id": "ca01667f-ce12-453f-b054-db43537af3f5",
   "metadata": {},
   "outputs": [],
   "source": [
    "# Load the testing data\n",
    "try:\n",
    "    test_data = pd.read_csv('/home/ankit/Desktop/notebook/IntrusionDetection_ML/KNN/datasets/KDDTest+.txt', header=None)\n",
    "except FileNotFoundError:\n",
    "    print(\"Testing file not found. Please check the file path and try again.\")\n",
    "    exit(1)"
   ]
  },
  {
   "cell_type": "code",
   "execution_count": null,
   "id": "43f6cf4b-8505-42d4-a772-1ff00bc85d07",
   "metadata": {},
   "outputs": [],
   "source": [
    "# Define columns\n",
    "columns = [\n",
    "    'duration', 'protocol_type', 'service', 'flag', 'src_bytes', 'dst_bytes',\n",
    "    'land', 'wrong_fragment', 'urgent', 'hot', 'num_failed_logins', 'logged_in',\n",
    "    'num_compromised', 'root_shell', 'su_attempted', 'num_root', 'num_file_creations',\n",
    "    'num_shells', 'num_access_files', 'num_outbound_cmds', 'is_host_login',\n",
    "    'is_guest_login', 'count', 'srv_count', 'serror_rate', 'srv_serror_rate',\n",
    "    'rerror_rate', 'srv_rerror_rate', 'same_srv_rate', 'diff_srv_rate', 'srv_diff_host_rate',\n",
    "    'dst_host_count', 'dst_host_srv_count', 'dst_host_same_srv_rate', 'dst_host_diff_srv_rate',\n",
    "    'dst_host_same_src_port_rate', 'dst_host_srv_diff_host_rate', 'dst_host_serror_rate',\n",
    "    'dst_host_srv_serror_rate', 'dst_host_rerror_rate', 'dst_host_srv_rerror_rate', 'attack', 'level'\n",
    "]\n",
    "test_data.columns = columns"
   ]
  },
  {
   "cell_type": "code",
   "execution_count": null,
   "id": "6c8865e7-3194-4e73-a94a-859ec628894a",
   "metadata": {},
   "outputs": [],
   "source": [
    "# Label encode categorical features\n",
    "label_encoders = {}\n",
    "for col in ['protocol_type', 'service', 'flag']:\n",
    "    le = LabelEncoder()\n",
    "    test_data[col] = le.fit_transform(test_data[col])"
   ]
  },
  {
   "cell_type": "code",
   "execution_count": null,
   "id": "b0bbaa76-ecdd-4e4a-95f5-ec707eb0b325",
   "metadata": {},
   "outputs": [],
   "source": [
    "# Binary classification for 'attack' column\n",
    "test_data['attack'] = test_data['attack'].apply(lambda x: 0 if x == 'normal' else 1)"
   ]
  },
  {
   "cell_type": "code",
   "execution_count": null,
   "id": "a72a95b0-3abb-4fa9-a1cd-5780065d9a8a",
   "metadata": {},
   "outputs": [],
   "source": [
    "# Split features and target\n",
    "X_test = test_data.drop(['attack'], axis=1)\n",
    "y_test = test_data['attack']"
   ]
  },
  {
   "cell_type": "code",
   "execution_count": null,
   "id": "772b3041-5e12-44b4-b107-ccbf8ac94e53",
   "metadata": {},
   "outputs": [],
   "source": [
    "# Load the trained model\n",
    "with open('knn_model.pkl', 'rb') as f:\n",
    "    knn_model = pickle.load(f)"
   ]
  },
  {
   "cell_type": "code",
   "execution_count": null,
   "id": "bcad15d9-1ebe-4983-960b-3cc3cf54280c",
   "metadata": {},
   "outputs": [],
   "source": [
    "# Load the scaler\n",
    "with open('scaler.pkl', 'rb') as f:\n",
    "    scaler = pickle.load(f)"
   ]
  },
  {
   "cell_type": "code",
   "execution_count": null,
   "id": "31a6a9ed-d935-4927-a12e-817d25d17ecc",
   "metadata": {},
   "outputs": [],
   "source": [
    "# Standardize the testing data\n",
    "X_test = scaler.transform(X_test)"
   ]
  },
  {
   "cell_type": "code",
   "execution_count": null,
   "id": "e2079af7-2966-433c-a726-73f52b058034",
   "metadata": {},
   "outputs": [],
   "source": [
    "# Make predictions\n",
    "y_pred = knn_model.predict(X_test)"
   ]
  },
  {
   "cell_type": "code",
   "execution_count": null,
   "id": "7f8d7624-4a4e-4e12-abef-198329109519",
   "metadata": {},
   "outputs": [],
   "source": [
    "# Evaluate the model\n",
    "print(\"Test Accuracy:\", accuracy_score(y_test, y_pred))\n",
    "print(\"Classification Report:\\n\", classification_report(y_test, y_pred))\n",
    "print(\"Confusion Matrix:\\n\", confusion_matrix(y_test, y_pred))\n",
    "print(\"ROC AUC:\", roc_auc_score(y_test, y_pred))"
   ]
  },
  {
   "cell_type": "code",
   "execution_count": null,
   "id": "a94c3a14-b6b0-4f90-9347-d75c00edbb2b",
   "metadata": {},
   "outputs": [],
   "source": []
  }
 ],
 "metadata": {
  "kernelspec": {
   "display_name": "Python 3 (ipykernel)",
   "language": "python",
   "name": "python3"
  },
  "language_info": {
   "codemirror_mode": {
    "name": "ipython",
    "version": 3
   },
   "file_extension": ".py",
   "mimetype": "text/x-python",
   "name": "python",
   "nbconvert_exporter": "python",
   "pygments_lexer": "ipython3",
   "version": "3.12.4"
  }
 },
 "nbformat": 4,
 "nbformat_minor": 5
}
