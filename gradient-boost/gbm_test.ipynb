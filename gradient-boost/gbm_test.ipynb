{
 "cells": [
  {
   "cell_type": "markdown",
   "id": "acdd1f22-6237-4b05-9adc-9a0420e56ce1",
   "metadata": {},
   "source": [
    "# 1. Libraries"
   ]
  },
  {
   "cell_type": "code",
   "execution_count": 221,
   "id": "14e076da-6b7a-44ef-9e97-d04d320e9f60",
   "metadata": {},
   "outputs": [],
   "source": [
    "import pandas as pd\n",
    "import numpy as np\n",
    "import seaborn as sns\n",
    "import matplotlib.pyplot as plt\n",
    "import joblib\n",
    "from sklearn.preprocessing import StandardScaler\n",
    "from sklearn import preprocessing\n",
    "from sklearn.metrics import accuracy_score, confusion_matrix, classification_report"
   ]
  },
  {
   "cell_type": "markdown",
   "id": "8ddfe188-8621-4e9c-975f-86fc9c46f502",
   "metadata": {},
   "source": [
    "# 2. Load Test Data"
   ]
  },
  {
   "cell_type": "code",
   "execution_count": 222,
   "id": "5b020c56-d707-4791-aba6-6d099730a5bc",
   "metadata": {},
   "outputs": [],
   "source": [
    "test_df = pd.read_csv('KDDTest+.txt', header=None)"
   ]
  },
  {
   "cell_type": "markdown",
   "id": "6c15d093-63c1-465a-bb20-6afaa8216951",
   "metadata": {},
   "source": [
    "# 3. Data Pre-Processing"
   ]
  },
  {
   "cell_type": "markdown",
   "id": "c43fbc03-7a55-44d6-b94a-fb1e247e7fb4",
   "metadata": {},
   "source": [
    "## 3.1. Adjust column"
   ]
  },
  {
   "cell_type": "code",
   "execution_count": 223,
   "id": "1dfb4c2f-ac91-442a-b329-19320d0fe315",
   "metadata": {},
   "outputs": [],
   "source": [
    "columns = (['duration'\n",
    ",'protocol_type'\n",
    ",'service'\n",
    ",'flag'\n",
    ",'src_bytes'\n",
    ",'dst_bytes'\n",
    ",'land'\n",
    ",'wrong_fragment'\n",
    ",'urgent'\n",
    ",'hot'\n",
    ",'num_failed_logins'\n",
    ",'logged_in'\n",
    ",'num_compromised'\n",
    ",'root_shell'\n",
    ",'su_attempted'\n",
    ",'num_root'\n",
    ",'num_file_creations'\n",
    ",'num_shells'\n",
    ",'num_access_files'\n",
    ",'num_outbound_cmds'\n",
    ",'is_host_login'\n",
    ",'is_guest_login'\n",
    ",'count','srv_count'\n",
    ",'serror_rate'\n",
    ",'srv_serror_rate'\n",
    ",'rerror_rate'\n",
    ",'srv_rerror_rate'\n",
    ",'same_srv_rate'\n",
    ",'diff_srv_rate'\n",
    ",'srv_diff_host_rate'\n",
    ",'dst_host_count'\n",
    ",'dst_host_srv_count'\n",
    ",'dst_host_same_srv_rate'\n",
    ",'dst_host_diff_srv_rate'\n",
    ",'dst_host_same_src_port_rate'\n",
    ",'dst_host_srv_diff_host_rate'\n",
    ",'dst_host_serror_rate'\n",
    ",'dst_host_srv_serror_rate'\n",
    ",'dst_host_rerror_rate'\n",
    ",'dst_host_srv_rerror_rate'\n",
    ",'attack'\n",
    ",'level'])\n",
    "\n",
    "test_df.columns = columns"
   ]
  },
  {
   "cell_type": "markdown",
   "id": "a56eb213-516e-4c23-9251-edd35e6c3c43",
   "metadata": {},
   "source": [
    "## 3.2. Classify Attack Column as Normal & attack"
   ]
  },
  {
   "cell_type": "code",
   "execution_count": 224,
   "id": "c6dde3c1-3b63-45e1-ba94-5524d1ae6a48",
   "metadata": {},
   "outputs": [],
   "source": [
    "attack_n = []\n",
    "for i in test_df.attack :\n",
    "  if i == 'normal':\n",
    "    attack_n.append(0)\n",
    "  else:\n",
    "    attack_n.append(1)\n",
    "test_df['attack'] = attack_n "
   ]
  },
  {
   "cell_type": "markdown",
   "id": "193cec71-8efc-4620-96b6-6d8542bbdb7c",
   "metadata": {},
   "source": [
    "## 3.3. Preprocess categorical features"
   ]
  },
  {
   "cell_type": "code",
   "execution_count": 225,
   "id": "3ef2f2bd-3e7c-45f7-90fd-00e1b1c3b2bf",
   "metadata": {},
   "outputs": [],
   "source": [
    "protocol_type_le = preprocessing.LabelEncoder()\n",
    "service_le = preprocessing.LabelEncoder()\n",
    "flag_le = preprocessing.LabelEncoder()"
   ]
  },
  {
   "cell_type": "markdown",
   "id": "d707b39f-fcd3-4d01-b8f9-94bd91cf3b43",
   "metadata": {},
   "source": [
    "## 3.4. Convert Categorical Data into Numerical Data"
   ]
  },
  {
   "cell_type": "code",
   "execution_count": 226,
   "id": "3b06731e-e711-48a1-a663-aacc1b13bebe",
   "metadata": {},
   "outputs": [],
   "source": [
    "test_df['protocol_type'] = protocol_type_le.fit_transform(test_df['protocol_type'])\n",
    "test_df['service'] = service_le.fit_transform(test_df['service'])\n",
    "test_df['flag'] = flag_le.fit_transform(test_df['flag'])"
   ]
  },
  {
   "cell_type": "markdown",
   "id": "85416c38-04e3-4ca4-8da0-637b2c36195b",
   "metadata": {},
   "source": [
    "## 3.5. Define features and labels"
   ]
  },
  {
   "cell_type": "code",
   "execution_count": 227,
   "id": "f24769cc-255f-4064-999c-243ff24fed4d",
   "metadata": {},
   "outputs": [],
   "source": [
    "X_test = test_df.drop(columns=['attack'])\n",
    "Y_test = test_df['attack']"
   ]
  },
  {
   "cell_type": "markdown",
   "id": "f869ea3e-ed9e-487b-bd0f-1408df98a204",
   "metadata": {},
   "source": [
    "# 4. Evaluating Mode"
   ]
  },
  {
   "cell_type": "markdown",
   "id": "fc5dc488-8a84-4e86-b0e2-bbd5c39d1127",
   "metadata": {},
   "source": [
    "## 4.1. Load the Scaler and Standardize Features"
   ]
  },
  {
   "cell_type": "code",
   "execution_count": 228,
   "id": "98bc1d90-cf12-47f3-b8f9-b0caab64e783",
   "metadata": {},
   "outputs": [],
   "source": [
    "scaler = joblib.load('scaler.pkl')\n",
    "X_test = scaler.transform(x_test)"
   ]
  },
  {
   "cell_type": "markdown",
   "id": "bf3b4b1c-d915-441e-b4cb-259605ff840f",
   "metadata": {},
   "source": [
    "## 4.2. Load the Gradient Boosting Model"
   ]
  },
  {
   "cell_type": "code",
   "execution_count": 229,
   "id": "091560ed-0538-4c76-8131-dc44639a968b",
   "metadata": {},
   "outputs": [],
   "source": [
    "model = joblib.load('gbm_model.pkl')"
   ]
  },
  {
   "cell_type": "markdown",
   "id": "e8495747-a13c-4803-b719-645aeae6ed3c",
   "metadata": {},
   "source": [
    "## 4.3. Make Predictions"
   ]
  },
  {
   "cell_type": "code",
   "execution_count": 230,
   "id": "bb48bcbb-5cd9-40e5-9b72-84b81f6730fd",
   "metadata": {},
   "outputs": [],
   "source": [
    "Y_pred = model.predict(X_test)"
   ]
  },
  {
   "cell_type": "markdown",
   "id": "0e8ca427-8443-4f47-8191-0514297c822e",
   "metadata": {},
   "source": [
    "## 4.4. Calculate Accuracy"
   ]
  },
  {
   "cell_type": "code",
   "execution_count": 231,
   "id": "5b05f45b-4bc2-4d1e-ba62-ba3c714e9b75",
   "metadata": {},
   "outputs": [],
   "source": [
    "label_mapping = {'normal': 0, 'attack': 1}\n",
    "Y_pred_mapped = [label_mapping[label] for label in Y_pred]"
   ]
  },
  {
   "cell_type": "code",
   "execution_count": 232,
   "id": "9a123c21-befb-4bb9-932b-508464e362ca",
   "metadata": {},
   "outputs": [
    {
     "name": "stdout",
     "output_type": "stream",
     "text": [
      "Testing accuracy: 0.8529542228530873\n"
     ]
    }
   ],
   "source": [
    "accuracy = accuracy_score(y_test, Y_pred_mapped)\n",
    "print('Testing accuracy:', accuracy)"
   ]
  },
  {
   "cell_type": "code",
   "execution_count": 233,
   "id": "415ca41c-1dc6-4abe-97bd-c02e4f5e1ffa",
   "metadata": {},
   "outputs": [
    {
     "name": "stdout",
     "output_type": "stream",
     "text": [
      "              precision    recall  f1-score   support\n",
      "\n",
      "           0       0.76      0.97      0.85      9711\n",
      "           1       0.97      0.77      0.86     12833\n",
      "\n",
      "    accuracy                           0.85     22544\n",
      "   macro avg       0.86      0.87      0.85     22544\n",
      "weighted avg       0.88      0.85      0.85     22544\n",
      "\n"
     ]
    }
   ],
   "source": [
    "report = classification_report(Y_test, Y_pred_mapped)\n",
    "print(report)"
   ]
  },
  {
   "cell_type": "markdown",
   "id": "274a7550-84c6-4f56-b45f-23717f7fa688",
   "metadata": {},
   "source": [
    "## 4.5. Plot Confusion Matrix"
   ]
  },
  {
   "cell_type": "code",
   "execution_count": 234,
   "id": "cba73238-a23c-4c79-8be7-f4f635541bc5",
   "metadata": {},
   "outputs": [
    {
     "name": "stderr",
     "output_type": "stream",
     "text": [
      "/tmp/ipykernel_11714/3667735665.py:14: DeprecationWarning: Conversion of an array with ndim > 0 to a scalar is deprecated, and will error in future. Ensure you extract a single element from your array before performing this operation. (Deprecated NumPy 1.25.)\n",
      "  annot[i, j] = '%.1f%%\\n%d/%d' % (p, c, s)\n"
     ]
    },
    {
     "data": {
      "image/png": "[encoded data removed]",
      "text/plain": [
       "<Figure size 1000x1000 with 2 Axes>"
      ]
     },
     "metadata": {},
     "output_type": "display_data"
    }
   ],
   "source": [
    "plot_cm(y_test, y_pred_mapped, 'Confusion matrix for predictions on the testing using GBM')"
   ]
  },
  {
   "cell_type": "code",
   "execution_count": null,
   "id": "a2c8205c-6cec-4eb4-b0b7-8e35c947c8bb",
   "metadata": {},
   "outputs": [],
   "source": []
  },
  {
   "cell_type": "code",
   "execution_count": null,
   "id": "315a58eb-293f-4b27-b320-b959746c467b",
   "metadata": {},
   "outputs": [],
   "source": [
    "                            "
   ]
  }
 ],
 "metadata": {
  "kernelspec": {
   "display_name": "Python 3 (ipykernel)",
   "language": "python",
   "name": "python3"
  },
  "language_info": {
   "codemirror_mode": {
    "name": "ipython",
    "version": 3
   },
   "file_extension": ".py",
   "mimetype": "text/x-python",
   "name": "python",
   "nbconvert_exporter": "python",
   "pygments_lexer": "ipython3",
   "version": "3.12.5"
  }
 },
 "nbformat": 4,
 "nbformat_minor": 5
}
